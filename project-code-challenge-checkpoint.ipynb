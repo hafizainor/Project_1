{
 "cells": [
  {
   "cell_type": "markdown",
   "metadata": {},
   "source": [
    "<img src=\"http://imgur.com/1ZcRyrc.png\" style=\"float: left; margin: 20px; height: 55px\">\n",
    "\n",
    "# Project 1: Python Coding Exercises\n",
    "\n",
    "_Authors: Joseph Nelson (DC)_\n",
    "\n",
    "---"
   ]
  },
  {
   "cell_type": "markdown",
   "metadata": {},
   "source": [
    "The following code challenges are drawn from common exercises used in technical interviews.\n",
    "\n",
    "Please note that there may be several ways to approach each challenge. If you get stuck, try mapping out your approach in pseudocode first. Finally, while solutions to problems like these may be found online, remember that if you copy/paste code that you can't explain, you'll be missing out on the point of the project. The only way to truly learn a new skill is through practice, trial, and error - we can only help you improve by understanding where you are having trouble."
   ]
  },
  {
   "cell_type": "markdown",
   "metadata": {},
   "source": [
    "### Challenge 1: Largest Palindrome\n",
    "A palindromic number reads the same both ways. For example, 1234321 is a palindrome. The largest palindrome made from the product of two two-digit numbers is 9009 = 91 × 99. Find the largest palindrome made from the product of two three-digit numbers. Afterward, write a brief explanation walking through your code's logic in markdown."
   ]
  },
  {
   "cell_type": "code",
   "execution_count": 13,
   "metadata": {},
   "outputs": [
    {
     "name": "stdout",
     "output_type": "stream",
     "text": [
      "The two numbers are 995 and 583. Which multiplies to 580085\n"
     ]
    }
   ],
   "source": [
    "def multiply(a,b):\n",
    "    value = str(a * b)\n",
    "    return value\n",
    "\n",
    "number_1 = 999\n",
    "number_2 = 999\n",
    "\n",
    "multiple = multiply(number_1,number_2)\n",
    "compare_1 = multiple[0:3]\n",
    "compare_2 = multiple[3:][::-1]\n",
    "\n",
    "while compare_1 != compare_2:\n",
    "    if number_2 >= 100:\n",
    "        number_2 -= 1\n",
    "        multiple = multiply(number_1,number_2)\n",
    "        compare_1 = multiple[0:3]\n",
    "        compare_2 = multiple[3:][::-1]\n",
    "    else:\n",
    "        number_2 = 999\n",
    "        number_1 -= 1\n",
    "        \n",
    "print(\"The two numbers are %d and %d. Which multiplies to %s.\" %(number_1,number_2,multiple))"
   ]
  },
  {
   "cell_type": "markdown",
   "metadata": {},
   "source": [
    "*Firstly*, I create a function that does the multiplication between 2 numbers, and return the value as a STR type.\n",
    "*Secondly*, I define 2 numbers, starting from the largest three-digit numbers.\n",
    "\n",
    "For the first iteration, I mulitply the two numbers outside of the while loop to initialize the variable *multiply*\n",
    "As the function multiply() returns a STR varible, compare_1 will read the first 3 digits while compare_2 will read a reversed version of the last 3 digits. It will then be compared.\n",
    "\n",
    "As long as compare_1 and compare_2 is not equal, the number_2 and number_1 will decrease until compare_1 is equals to compare 2."
   ]
  },
  {
   "cell_type": "markdown",
   "metadata": {},
   "source": [
    "\n",
    "### Challenge 2: Summation of Primes\n",
    "The sum of the primes below 10 is 2 + 3 + 5 + 7 = 17. Find the sum of all the primes below 2,000. Afterward, write a brief explanation walking through your code's logic in markdown."
   ]
  },
  {
   "cell_type": "code",
   "execution_count": 14,
   "metadata": {},
   "outputs": [
    {
     "name": "stdout",
     "output_type": "stream",
     "text": [
      "277050\n"
     ]
    }
   ],
   "source": [
    "number = 2\n",
    "divisible = 1\n",
    "divisible_count = 0\n",
    "total_sum = 0\n",
    "\n",
    "while number < 2000:\n",
    "\n",
    "  while divisible <= number:\n",
    "    if number % divisible == 0:\n",
    "      divisible_count += 1\n",
    "      divisible += 1\n",
    "    else:\n",
    "      divisible += 1\n",
    "\n",
    "  if divisible_count == 2:\n",
    "    total_sum += number\n",
    "    number += 1\n",
    "  else:\n",
    "    number += 1\n",
    "\n",
    "  divisible = 1\n",
    "  divisible_count = 0\n",
    "  \n",
    "print(total_sum)"
   ]
  },
  {
   "cell_type": "markdown",
   "metadata": {},
   "source": [
    "To find a prime number, a variable \"number\" will be divided by a variable called \"divisible\" - which is incremented from 1 to \"number\". The variable \"divisible_count\" will be incremented as long the the value of \"0\" is detected through the equation (number % divisible)\n",
    "\n",
    "Only \"number\" with the \"divisble_count\" of 2, will be used to add up as the total sum."
   ]
  },
  {
   "cell_type": "markdown",
   "metadata": {},
   "source": [
    "### Challenge 3: Multiples of 3 and 5\n",
    "If we list all of the natural numbers below 10 that are multiples of 3 or 5, we get 3, 5, 6, and 9. The sum of these multiples is 23. Find the sum of all the multiples of 3 and 5 below 1,000. Afterward, write a brief explanation walking through your code's logic in markdown."
   ]
  },
  {
   "cell_type": "code",
   "execution_count": 15,
   "metadata": {},
   "outputs": [
    {
     "name": "stdout",
     "output_type": "stream",
     "text": [
      "233168\n"
     ]
    }
   ],
   "source": [
    "multiple_of_3_and_5 = []\n",
    "x = 1\n",
    "\n",
    "while x < 1000:\n",
    "    if x % 3 == 0 or x % 5 == 0:\n",
    "        multiple_of_3_and_5.append(x)\n",
    "        x += 1\n",
    "    else:\n",
    "        x += 1\n",
    "#print(set(multiple_of_3_and_5))      \n",
    "print(sum(set(multiple_of_3_and_5)))\n",
    "    "
   ]
  },
  {
   "cell_type": "markdown",
   "metadata": {
    "collapsed": true
   },
   "source": [
    "An emplty list is created at first as seen.\n",
    "\n",
    "A variable 'x' acts as the number. If x is either divisble by 3 OR 5, \"x\" is added to the list.\n",
    "\n",
    "After gathering all the \"x\" values, it is converted to a SET container as to get rid of repeating numbers (in case there's any). Then all the numbers in the SET are added up."
   ]
  },
  {
   "cell_type": "markdown",
   "metadata": {},
   "source": [
    "### Challenge 4: String Compressor\n",
    "Implement a method to perform basic string compression using the counts of repeated characters. (This is called run-length encoding.) For example, the string \"aabcccccaaa\" would become a2b1c5a3. If the “compressed” string would not become smaller than the original string, your method should return the original string. You can assume the string has only uppercase and lowercase letters (a–z). Specify whether your solution is case sensitive or case insensitive and what you would need to change to make it the other. Afterward, write a brief explanation walking through your code's logic in markdown."
   ]
  },
  {
   "cell_type": "code",
   "execution_count": 9,
   "metadata": {},
   "outputs": [
    {
     "name": "stdout",
     "output_type": "stream",
     "text": [
      "what is your character: aabbccdAABBDDC99\n",
      "a2b2c2d1A2B2D2C192\n"
     ]
    }
   ],
   "source": [
    "def compressed(character):\n",
    "  comp = []\n",
    "  x = 0\n",
    "  repeat = 1\n",
    "\n",
    "  while x < len(character):\n",
    "    if x < 1:\n",
    "      comp.append(character[x])\n",
    "    elif x >= 1:\n",
    "      if character[x] == character[x-1]:\n",
    "        repeat += 1\n",
    "      else:\n",
    "          comp.append(str(repeat))\n",
    "          comp.append(character[x])\n",
    "          repeat = 1\n",
    "    x += 1\n",
    "  comp.append(str(repeat))\n",
    "  print(\"\".join(comp))\n",
    "              \n",
    "compressed(input(\"what is your character: \"))"
   ]
  },
  {
   "cell_type": "markdown",
   "metadata": {},
   "source": [
    "A method called \"compressed\" is created and taking a string variable.\n",
    "\n",
    "Initialize an empty list.\n",
    "\n",
    "Variable \"x\" acts as the index and will be used for while loop.\n",
    "\n",
    "Variable \"repeat\" will increment when it detects a repeating character."
   ]
  },
  {
   "cell_type": "markdown",
   "metadata": {},
   "source": [
    "### *BONUS* Challenge: FizzBuzz\n",
    "Write a program that prints all of the numbers from 1 to 100. For multiples of 3, instead of the number, print \"Fizz;\" for multiples of 5, print \"Buzz.\" For numbers that are multiples of both 3 and 5, print \"FizzBuzz.\" Afterward, write a brief explanation walking through your code's logic in markdown."
   ]
  },
  {
   "cell_type": "code",
   "execution_count": 1,
   "metadata": {},
   "outputs": [
    {
     "name": "stdout",
     "output_type": "stream",
     "text": [
      "1\n",
      "2\n",
      "Fizz\n",
      "4\n",
      "Buzz\n",
      "Fizz\n",
      "7\n",
      "8\n",
      "Fizz\n",
      "Buzz\n",
      "11\n",
      "Fizz\n",
      "13\n",
      "14\n",
      "FizzBuzz\n",
      "16\n",
      "17\n",
      "Fizz\n",
      "19\n",
      "Buzz\n",
      "Fizz\n",
      "22\n",
      "23\n",
      "Fizz\n",
      "Buzz\n",
      "26\n",
      "Fizz\n",
      "28\n",
      "29\n",
      "FizzBuzz\n",
      "31\n",
      "32\n",
      "Fizz\n",
      "34\n",
      "Buzz\n",
      "Fizz\n",
      "37\n",
      "38\n",
      "Fizz\n",
      "Buzz\n",
      "41\n",
      "Fizz\n",
      "43\n",
      "44\n",
      "FizzBuzz\n",
      "46\n",
      "47\n",
      "Fizz\n",
      "49\n",
      "Buzz\n",
      "Fizz\n",
      "52\n",
      "53\n",
      "Fizz\n",
      "Buzz\n",
      "56\n",
      "Fizz\n",
      "58\n",
      "59\n",
      "FizzBuzz\n",
      "61\n",
      "62\n",
      "Fizz\n",
      "64\n",
      "Buzz\n",
      "Fizz\n",
      "67\n",
      "68\n",
      "Fizz\n",
      "Buzz\n",
      "71\n",
      "Fizz\n",
      "73\n",
      "74\n",
      "FizzBuzz\n",
      "76\n",
      "77\n",
      "Fizz\n",
      "79\n",
      "Buzz\n",
      "Fizz\n",
      "82\n",
      "83\n",
      "Fizz\n",
      "Buzz\n",
      "86\n",
      "Fizz\n",
      "88\n",
      "89\n",
      "FizzBuzz\n",
      "91\n",
      "92\n",
      "Fizz\n",
      "94\n",
      "Buzz\n",
      "Fizz\n",
      "97\n",
      "98\n",
      "Fizz\n",
      "Buzz\n"
     ]
    }
   ],
   "source": [
    "for x in range(100):\n",
    "    if (x+1) % 3 == 0 and (x+1) % 5 == 0:\n",
    "        print(\"FizzBuzz\")\n",
    "    elif (x+1) % 3 == 0:\n",
    "        print(\"Fizz\")\n",
    "    elif (x+1) % 5 == 0:\n",
    "        print(\"Buzz\")\n",
    "    else:\n",
    "        print(x+1)"
   ]
  },
  {
   "cell_type": "markdown",
   "metadata": {},
   "source": [
    "I used a for Loop with a range of 100. Since the index start from 0 and end at 99, the variable x have to be added by 1 to get the proper range of 1 - 100.\n",
    "\n",
    "if-else statement were used to meet certain condition, if the remainder of dividing a number by 3 is 0, then it will print \"fizz\". If the remainder of dividing a number by 5 is 0, it will print \"buzz\". If the remainder of a number is 0 after dividing by both 3 and 5, it will print \"fizzbuzz\""
   ]
  },
  {
   "cell_type": "code",
   "execution_count": null,
   "metadata": {},
   "outputs": [],
   "source": []
  }
 ],
 "metadata": {
  "anaconda-cloud": {},
  "kernelspec": {
   "display_name": "Python 3",
   "language": "python",
   "name": "python3"
  },
  "language_info": {
   "codemirror_mode": {
    "name": "ipython",
    "version": 3
   },
   "file_extension": ".py",
   "mimetype": "text/x-python",
   "name": "python",
   "nbconvert_exporter": "python",
   "pygments_lexer": "ipython3",
   "version": "3.7.3"
  },
  "toc": {
   "base_numbering": 1,
   "nav_menu": {},
   "number_sections": true,
   "sideBar": true,
   "skip_h1_title": false,
   "title_cell": "Table of Contents",
   "title_sidebar": "Contents",
   "toc_cell": false,
   "toc_position": {},
   "toc_section_display": true,
   "toc_window_display": false
  },
  "varInspector": {
   "cols": {
    "lenName": 16,
    "lenType": 16,
    "lenVar": 40
   },
   "kernels_config": {
    "python": {
     "delete_cmd_postfix": "",
     "delete_cmd_prefix": "del ",
     "library": "var_list.py",
     "varRefreshCmd": "print(var_dic_list())"
    },
    "r": {
     "delete_cmd_postfix": ") ",
     "delete_cmd_prefix": "rm(",
     "library": "var_list.r",
     "varRefreshCmd": "cat(var_dic_list()) "
    }
   },
   "types_to_exclude": [
    "module",
    "function",
    "builtin_function_or_method",
    "instance",
    "_Feature"
   ],
   "window_display": false
  }
 },
 "nbformat": 4,
 "nbformat_minor": 2
}
